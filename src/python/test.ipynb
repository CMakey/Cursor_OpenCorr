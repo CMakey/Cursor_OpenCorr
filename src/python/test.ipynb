{
 "cells": [],
 "metadata": {
  "kernelspec": {
   "display_name": "Code_for_paper",
   "language": "python",
   "name": "python3"
  },
  "language_info": {
   "name": "python",
   "version": "3.8.18"
  }
 },
 "nbformat": 4,
 "nbformat_minor": 2
}
